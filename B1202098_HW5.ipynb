{
  "nbformat": 4,
  "nbformat_minor": 0,
  "metadata": {
    "colab": {
      "provenance": []
    },
    "kernelspec": {
      "name": "python3",
      "display_name": "Python 3"
    },
    "language_info": {
      "name": "python"
    }
  },
  "cells": [
    {
      "cell_type": "code",
      "source": [
        "for i in range(1,19,2):\n",
        "  tree=\"\"\n",
        "  for j in range(i):\n",
        "    tree=tree+\"*\"\n",
        "  print(f\"{tree:^17s}\",end=\" \")\n",
        "  print(\"\")\n",
        "tree=\"***\"\n",
        "for j in range(5):\n",
        "  print(f\"{tree:^17s}\",end=\" \")\n",
        "  print(\"\")"
      ],
      "metadata": {
        "colab": {
          "base_uri": "https://localhost:8080/"
        },
        "id": "hWWSnxI_nmem",
        "outputId": "e2fabf38-b457-4df3-d973-50cf3a99b858"
      },
      "execution_count": null,
      "outputs": [
        {
          "output_type": "stream",
          "name": "stdout",
          "text": [
            "        *         \n",
            "       ***        \n",
            "      *****       \n",
            "     *******      \n",
            "    *********     \n",
            "   ***********    \n",
            "  *************   \n",
            " ***************  \n",
            "***************** \n",
            "       ***        \n",
            "       ***        \n",
            "       ***        \n",
            "       ***        \n",
            "       ***        \n"
          ]
        }
      ]
    },
    {
      "cell_type": "code",
      "execution_count": null,
      "metadata": {
        "colab": {
          "base_uri": "https://localhost:8080/"
        },
        "id": "TZInYWVkWV3j",
        "outputId": "c64a7eb5-6fa1-4f19-fd51-6860b2280115"
      },
      "outputs": [
        {
          "output_type": "stream",
          "name": "stdout",
          "text": [
            "答案： [8, 7, 1, 5]\n",
            "請輸入四個數字(不重複):10234\n",
            "輸入數字過多，請重新輸入四個數字(不重複):1234\n",
            "1234 : 0 A 1 B\n",
            "請輸入四個數字(不重複):5678\n",
            "5678 : 0 A 3 B\n",
            "請輸入四個數字(不重複):7562\n",
            "7562 : 0 A 2 B\n",
            "請輸入四個數字(不重複):8753\n",
            "8753 : 2 A 1 B\n",
            "請輸入四個數字(不重複):8715\n",
            "8715 : 4 A 0 B\n",
            "恭喜答對，總共猜了 5 次。\n"
          ]
        }
      ],
      "source": [
        "import random\n",
        "a=b=times=0\n",
        "ans=[0,0,0,0]\n",
        "while ans[0]==0:\n",
        "  ans=random.sample(range(0,10),4)\n",
        "print(\"答案：\",ans)\n",
        "while a!=4:\n",
        "  num=str(input(\"請輸入四個數字(不重複):\"))\n",
        "  numlist=list(num)\n",
        "  while len(numlist)!=4:\n",
        "    if len(numlist)>4:\n",
        "      num=str(input(\"輸入數字過多，請重新輸入四個數字(不重複):\"))\n",
        "    else:\n",
        "      num=str(input(\"輸入數字過少，請重新輸入四個數字(不重複):\"))\n",
        "    numlist=list(num)\n",
        "  a=b=0\n",
        "  for i in range(4):\n",
        "    for j in range(4):\n",
        "      if int(numlist[i])==ans[j]:\n",
        "        if i==j:\n",
        "          a+=1\n",
        "        else:\n",
        "          b+=1\n",
        "  print(num,\":\",a,\"A\",b,\"B\")\n",
        "  times+=1\n",
        "print(\"恭喜答對，總共猜了\",times,\"次。\")"
      ]
    }
  ]
}